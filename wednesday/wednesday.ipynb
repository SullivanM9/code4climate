{
  "nbformat": 4,
  "nbformat_minor": 0,
  "metadata": {
    "colab": {
      "provenance": []
    },
    "kernelspec": {
      "name": "python3",
      "display_name": "Python 3"
    },
    "language_info": {
      "name": "python"
    }
  },
  "cells": [
    {
      "cell_type": "markdown",
      "source": [
        "# ***Lists***\n",
        "\n",
        "Lists are exactly as the name implies. They are lists of objects. The objects can be any data type (including lists), and it is allowed to mix data types. In this way they are much more flexible than arrays. It is possible to append, delete, insert and count elements and to sort, reverse, etc. the list.\n",
        "\n",
        "\n",
        "\n",
        "```\n",
        "a_list = [1,2,3,\"this is a string\",5.3]\n",
        "b_list = [\"A\",\"B\",\"F\",\"G\",\"d\",\"x\",\"c\",a_list,3]\n",
        "print(b_list)\n",
        "print(b_list[7:9])\n",
        "```\n",
        "\n",
        "\n",
        "```\n",
        "a = [1,2,3,4,5,6,7]\n",
        "a.insert(0,0)\n",
        "print(a)\n",
        "a.append(8)\n",
        "print(a)\n",
        "a.reverse()\n",
        "print(a)\n",
        "a.sort()\n",
        "print(a)\n",
        "a.pop()\n",
        "print(a)\n",
        "a.remove(3)\n",
        "print(a)\n",
        "a.remove(a[4])\n",
        "print(a)\n",
        "```\n",
        "\n",
        "***Elements are indexed from 0. Any string is essentially a list***\n",
        "\n",
        "\n",
        "\n",
        "\n"
      ],
      "metadata": {
        "id": "Jta1UEXZapUd"
      }
    },
    {
      "cell_type": "markdown",
      "source": [
        "***A list can contain different type of data types in a single variable which may sometime become very useful***\n",
        "\n",
        "\n",
        "\n",
        "\n",
        "\n",
        "\n",
        "\n"
      ],
      "metadata": {
        "id": "Fd2z7SIMdJTz"
      }
    },
    {
      "cell_type": "code",
      "source": [
        "# use of list demonstration\n",
        "\n",
        "a_list = [1,2,3,\"this is a string\",5.3]\n",
        "print(a_list)\n",
        "print(\"2nd element \", a_list[3][3])\n"
      ],
      "metadata": {
        "id": "tLv0cu7cb_oH",
        "colab": {
          "base_uri": "https://localhost:8080/"
        },
        "outputId": "8f4c4556-1ca7-4d65-ecf4-6dabbda16243"
      },
      "execution_count": 5,
      "outputs": [
        {
          "output_type": "stream",
          "name": "stdout",
          "text": [
            "[1, 2, 3, 'this is a string', 5.3]\n",
            "2nd element  s\n"
          ]
        }
      ]
    },
    {
      "cell_type": "markdown",
      "source": [
        "***A list can contain another list***\n",
        "\n"
      ],
      "metadata": {
        "id": "41Tx4irQdUkP"
      }
    },
    {
      "cell_type": "code",
      "source": [
        "# use of list demonstration\n",
        "\n",
        "b_list = [\"A\",\"B\",\"F\",\"G\",\"d\",\"x\",\"c\",a_list,3]\n",
        "print(b_list)\n"
      ],
      "metadata": {
        "id": "mvfyaD4Ib5Hy",
        "colab": {
          "base_uri": "https://localhost:8080/"
        },
        "outputId": "d74082f2-68c9-4d32-8415-e6413d5b29c3"
      },
      "execution_count": 6,
      "outputs": [
        {
          "output_type": "stream",
          "name": "stdout",
          "text": [
            "['A', 'B', 'F', 'G', 'd', 'x', 'c', [1, 2, 3, 'this is a string', 5.3], 3]\n"
          ]
        }
      ]
    },
    {
      "cell_type": "markdown",
      "source": [
        "***You can check the size or length of the list by using the `len()` statement***"
      ],
      "metadata": {
        "id": "30AZ_wnldfDm"
      }
    },
    {
      "cell_type": "code",
      "source": [
        "# use of list demonstration\n",
        "length = len(b_list)\n",
        "print(length)\n",
        "# this is used for how many are in the the list"
      ],
      "metadata": {
        "id": "qY8lQP35d7xe",
        "colab": {
          "base_uri": "https://localhost:8080/"
        },
        "outputId": "96f28aa3-d350-49cb-b372-cd764ba12087"
      },
      "execution_count": 7,
      "outputs": [
        {
          "output_type": "stream",
          "name": "stdout",
          "text": [
            "9\n"
          ]
        }
      ]
    },
    {
      "cell_type": "markdown",
      "source": [
        "***You can easily take a segment of the list and use it as a separate list. It can greatly reduce the amount of typing one has to do during coding.***"
      ],
      "metadata": {
        "id": "roHuxvJVeGwN"
      }
    },
    {
      "cell_type": "code",
      "source": [
        "# use of list demonstration\n",
        "\n",
        "new_slice_list = b_list[6:9]\n",
        "print(new_slice_list)\n",
        "#This would be using the starting and end point."
      ],
      "metadata": {
        "id": "T6zs65BldAMu",
        "colab": {
          "base_uri": "https://localhost:8080/"
        },
        "outputId": "1e5a2434-d82d-4552-8c5e-45841938db25"
      },
      "execution_count": 9,
      "outputs": [
        {
          "output_type": "stream",
          "name": "stdout",
          "text": [
            "['c', [1, 2, 3, 'this is a string', 5.3], 3]\n"
          ]
        }
      ]
    },
    {
      "cell_type": "markdown",
      "source": [
        "***we can also use append() to add new element to our list***"
      ],
      "metadata": {
        "id": "dgqrzNcO9yqh"
      }
    },
    {
      "cell_type": "code",
      "source": [
        "numbers = [1,2,5,7]\n",
        "numbers.append(5)\n",
        "print(numbers)\n",
        "#if you want to add new numbers into the list"
      ],
      "metadata": {
        "id": "6Pig7mLB96QZ"
      },
      "execution_count": null,
      "outputs": []
    },
    {
      "cell_type": "markdown",
      "source": [
        "***Strings are also a type of list containing continuous stream of characters***"
      ],
      "metadata": {
        "id": "Shq5vliXg1MV"
      }
    },
    {
      "cell_type": "code",
      "source": [
        "# use of list demonstration\n",
        "\n",
        "string = \"this is an example of a string. Every character is a separate an element of the list\"\n",
        "character_list=[]\n",
        "print( \"This string is\",str(len(string)), \"character long\")\n",
        "print( \"All the letters and spaces are individual element of the list. \")\n",
        "\n",
        "for i in string:\n",
        "  character_list.append(i)\n",
        "\n",
        "print(\"here are all the characters in a list format: \\n\",character_list)\n",
        "\n",
        "#this would have all of the charictors would indiviual in quotes\n"
      ],
      "metadata": {
        "id": "vzaakgYag9vw",
        "colab": {
          "base_uri": "https://localhost:8080/"
        },
        "outputId": "54740e69-d062-4fb3-9618-07c7458ba735"
      },
      "execution_count": 10,
      "outputs": [
        {
          "output_type": "stream",
          "name": "stdout",
          "text": [
            "This string is 84 character long\n",
            "All the letters and spaces are individual element of the list. \n",
            "here are all the characters in a list format: \n",
            " ['t', 'h', 'i', 's', ' ', 'i', 's', ' ', 'a', 'n', ' ', 'e', 'x', 'a', 'm', 'p', 'l', 'e', ' ', 'o', 'f', ' ', 'a', ' ', 's', 't', 'r', 'i', 'n', 'g', '.', ' ', 'E', 'v', 'e', 'r', 'y', ' ', 'c', 'h', 'a', 'r', 'a', 'c', 't', 'e', 'r', ' ', 'i', 's', ' ', 'a', ' ', 's', 'e', 'p', 'a', 'r', 'a', 't', 'e', ' ', 'a', 'n', ' ', 'e', 'l', 'e', 'm', 'e', 'n', 't', ' ', 'o', 'f', ' ', 't', 'h', 'e', ' ', 'l', 'i', 's', 't']\n"
          ]
        }
      ]
    },
    {
      "cell_type": "markdown",
      "source": [
        "# ***Loops or Iterators***\n",
        "*Python has the usual iterators, while, for, and some other constructions that will be addressed later:*\n",
        "\n",
        "\n",
        "\n",
        "```\n",
        "for i in range(1,10):\n",
        "     print(i)\n",
        "```\n",
        "\n",
        "*`range()` : the range function gives us values up to, but not including, the upper limit.*\n",
        "\n",
        "```\n",
        "i = 1\n",
        "while i < 10:\n",
        "    print(i)\n",
        "    i = i + 1\n",
        "```\n",
        "\n",
        "`for()` and `while()` essentially do the same things. But depending on the situation one may be more convenient than other.\n",
        "\n",
        "\n",
        "\n",
        "\n",
        "> `for()` : the for loop construct can traverse through a list element by element. Therefore, the number of time the loop is going to run depends on the size of the list. In the meantime, the elements of the lists can be used to do any algorithmic calculations.\n",
        "\n",
        "\n",
        "\n",
        "\n",
        "\n",
        "\n"
      ],
      "metadata": {
        "id": "616RbYroaW5e"
      }
    },
    {
      "cell_type": "code",
      "execution_count": 19,
      "metadata": {
        "id": "vEoVJ2apaSls",
        "colab": {
          "base_uri": "https://localhost:8080/"
        },
        "outputId": "f4bd9c6d-03e9-4d07-8c39-37bb84b77e00"
      },
      "outputs": [
        {
          "output_type": "stream",
          "name": "stdout",
          "text": [
            "abcdefg\n"
          ]
        }
      ],
      "source": [
        "# For loop example:\n",
        "\n",
        "list_a = [\"abcdefg\"]  # we can also use range(1,7) to get this list\n",
        "\n",
        "for i in list_a:        # the variable 'i' takes one element in each iteration of the loop\n",
        "  print(i)              # and this variable can be used in algorithmic calculations\n"
      ]
    },
    {
      "cell_type": "markdown",
      "source": [
        "> `while()` : the while loop construct requires a counter and an increment of the counter variable. The loop runs continuously until a given logical condition is met.\n"
      ],
      "metadata": {
        "id": "jRa9H-u3pv-j"
      }
    },
    {
      "cell_type": "code",
      "source": [
        "# while loop example:\n",
        "\n",
        "list_a = [1,2,3,4,5,6]            # we can also use range(1,7) to get this list\n",
        "\n",
        "counter = 0                       # this is equivalent to the variable 'i' in the for loop\n",
        "while (counter < len(list_a)):    # the loop will continue to run until this logical check fails\n",
        "  print(list_a[counter])          # we are using the counter variable to access the list elements\n",
        "  counter=counter+1               # after the end of the statement, an increment is applied to the 'counter' variable\n"
      ],
      "metadata": {
        "id": "Os1U1KMmn_yW",
        "colab": {
          "base_uri": "https://localhost:8080/"
        },
        "outputId": "a4830949-128a-4dac-9092-1a3e37da9b11"
      },
      "execution_count": 39,
      "outputs": [
        {
          "output_type": "stream",
          "name": "stdout",
          "text": [
            "1\n",
            "2\n",
            "3\n",
            "4\n",
            "5\n",
            "6\n"
          ]
        }
      ]
    },
    {
      "cell_type": "markdown",
      "source": [
        "# ***`break` , `continue` , and `exit` statement***\n",
        "\n",
        "*In Python, the break statement is used to terminate the loop immediately when it is encountered. The syntax of the break statement is:*\n",
        "\n",
        "\n",
        "\n",
        "```\n",
        "for val in range(10):\n",
        "    if val == 5:\n",
        "        break\n",
        "    print(val)\n",
        "print(\"The end\")\n",
        "\n",
        "```\n",
        "*The continue statement is used to skip the current iteration of the loop and the control flow of the program goes to the next iteration. The syntax of the continue statement is:*\n",
        "\n",
        "```\n",
        "for val in range(10):\n",
        "    if val == 5:\n",
        "        continue\n",
        "    print(val)\n",
        "print(\"The end\")\n",
        "```\n",
        "*In Python, you can use the `exit()` function to exit a program. You can also use the `quit()` function, which is similar to `exit()`. Here’s an example of how to use the `exit()` function:*\n",
        "\n",
        "```\n",
        "for val in range(10):\n",
        "    if val == 5:\n",
        "        exit\n",
        "    print(val)\n",
        "print(\"The end\")\n",
        "```\n",
        "\n",
        "\n",
        "\n"
      ],
      "metadata": {
        "id": "xFymSyBh_689"
      }
    },
    {
      "cell_type": "code",
      "source": [
        "# demonstrate the use of break, continue, exit\n",
        "for val in range(10):\n",
        "    if val == 5:\n",
        "        exit\n",
        "    print(val)\n",
        "print(\"The end\")"
      ],
      "metadata": {
        "id": "JL_iXGFSZFsP",
        "colab": {
          "base_uri": "https://localhost:8080/"
        },
        "outputId": "c87968ad-5df0-4512-b8e8-5ab727ccd5d9"
      },
      "execution_count": 18,
      "outputs": [
        {
          "output_type": "stream",
          "name": "stdout",
          "text": [
            "0\n",
            "1\n",
            "2\n",
            "3\n",
            "4\n",
            "5\n",
            "6\n",
            "7\n",
            "8\n",
            "9\n",
            "The end\n"
          ]
        }
      ]
    },
    {
      "cell_type": "markdown",
      "source": [
        "# ***Practice Problem***\n",
        "Find the sum of squares of all natural number ranging from 10 to 20.\n",
        "\n",
        "\n",
        "\n",
        "> ***Using `for` loop***\n",
        "\n",
        "```\n",
        "1.   initialize a variable to track the summation, i.e. sum = 0\n",
        "2.   create a list containing all the natural numbers from 10 to 20 , i.e. use range() function\n",
        "3.   start the for loop construct\n",
        "4.   calculate the square of each element and add it to the 'sum' in each loop iteration\n",
        "5.   print out the sum variable outside the loop\n",
        "```\n",
        "\n",
        "\n",
        "\n",
        "\n"
      ],
      "metadata": {
        "id": "rE8dVmctr9Hi"
      }
    },
    {
      "cell_type": "code",
      "source": [
        "# sum of squares using for loop\n",
        "a_list=(10, 11, 12, 13, 14, 15, 16, 17, 18, 19, 20)\n",
        "sum=0\n",
        "for i in a_list:\n",
        "  print(i**2)\n",
        "  sum=i**2+sum\n",
        "print (sum)"
      ],
      "metadata": {
        "id": "-wFFKwpjqHE2",
        "colab": {
          "base_uri": "https://localhost:8080/"
        },
        "outputId": "209e4e62-8149-4cea-9da9-5387adc2b009"
      },
      "execution_count": 38,
      "outputs": [
        {
          "output_type": "stream",
          "name": "stdout",
          "text": [
            "100\n",
            "121\n",
            "144\n",
            "169\n",
            "196\n",
            "225\n",
            "256\n",
            "289\n",
            "324\n",
            "361\n",
            "400\n",
            "2585\n"
          ]
        }
      ]
    },
    {
      "cell_type": "markdown",
      "source": [
        "# ***Practice Problem***\n",
        "Find the sum of squares of all natural number ranging from 10 to 20.\n",
        "\n",
        "\n",
        "\n",
        "> ***Using `while` loop***\n",
        "\n",
        "```\n",
        "1.   initialize a variable to track the summation, i.e. sum = 0\n",
        "2.   initialize a counter variable which we can also use as the numbers, i.e. counter = 10\n",
        "3.   start the while loop construct with the condition based on the end point of the loop, i.e. counter<=20\n",
        "4.   calculate the square of each number and add it to the 'sum' in each loop iteration\n",
        "5.   print out the sum variable outside the loop\n",
        "```\n",
        "\n"
      ],
      "metadata": {
        "id": "8zpQ1_O4uQy-"
      }
    },
    {
      "cell_type": "code",
      "source": [
        "# sum of squares using for loop\n",
        "\n",
        "a_list= (10, 11, 12, 13, 14, 15, 16, 17, 18, 19, 20)\n",
        "counter = 0\n",
        "\n",
        "while ((counter<=20)\n",
        "\n",
        "counter = 0\n",
        "\n",
        "counter = 0                       # this is equivalent to the variable 'i' in the for loop\n",
        "while (counter < len(list_a)):    # the loop will continue to run until this logical check fails\n",
        "  print(list_a[counter])          # we are using the counter variable to access the list elements\n",
        "  counter=counter+1"
      ],
      "metadata": {
        "id": "1vYDInP5syZb"
      },
      "execution_count": null,
      "outputs": []
    },
    {
      "cell_type": "markdown",
      "source": [
        "# ***Practice Problem***\n",
        "write a code to print out the string in reverse order\n",
        "\n",
        "> ***Using `for` loop***\n",
        "\n",
        "```\n",
        "1.   string = \"your string goes here\"\n",
        "2.   initialize a new variable called 'reverse_string' and initialize with an empty string, i.e. reverse_string = \"\"\n",
        "3.   start the for loop construct to run for 'n' times where n = number of characters in your given string. You can use len() and range() structures together to form the list required to run the for loop.\n",
        "4.   use list indexing to add the (n-i)th character with the reverse string in the loop. Therefore, it will start adding the contents of the 'string' variable to the 'reverse_string' variable in a reverse order. (tricky)\n",
        "5.   print out the 'reverse_string' variable outside the loop\n",
        "```\n"
      ],
      "metadata": {
        "id": "en3cKD38v5HY"
      }
    },
    {
      "cell_type": "code",
      "source": [
        "# reversing string using for loop\n"
      ],
      "metadata": {
        "id": "Q21SzmAfud9-"
      },
      "execution_count": null,
      "outputs": []
    },
    {
      "cell_type": "markdown",
      "source": [
        "# ***Practice Problem***\n",
        "write a code to print out the string in reverse order\n",
        "\n",
        "> ***Using `while` loop***\n",
        "\n",
        "```\n",
        "1.   string = \"your string goes here\"\n",
        "2.   initialize a new variable called 'reverse_string' and initialize with an empty string, i.e. reverse_string = \"\"\n",
        "3.   counter = size or length of the 'string' variable\n",
        "4.   start the while loop construct, so that the loop will only run for counter >=0.\n",
        "5.   add the nth-character (n=counter) with the 'reverse_string' variable\n",
        "6.   decrease the value of the counter variable by 1\n",
        "7.   print the 'reverse_string' variable outside the loop.\n",
        "```\n"
      ],
      "metadata": {
        "id": "CPFpiLDNx5Sf"
      }
    },
    {
      "cell_type": "code",
      "source": [
        "# reversing string using while loop\n"
      ],
      "metadata": {
        "id": "iaUawsRowxH7"
      },
      "execution_count": null,
      "outputs": []
    },
    {
      "cell_type": "markdown",
      "source": [
        "# ***Practice Problem***\n",
        "Find the position of a letter in the alphabet\n",
        "\n",
        "Here is an easy solution using the properties of list:\n",
        "\n",
        "\n",
        "```\n",
        "alphabet = 'abcdefgbijklmnopqrstuvwxyz'\n",
        "letter = input('Enter a letter: ')\n",
        "print(alphabet.find(letter))\n",
        "```\n",
        "\n",
        "\n",
        "\n",
        "> ***Using `for` loop***\n",
        "\n",
        "```\n",
        "1.   first, get our alphabets in a list for reference, i.e. alphabet = 'abcdefgbijklmnopqrstuvwxyz'\n",
        "2.   letter = ask the user to input a letter\n",
        "3.   start the for loop construct to run 26 times (length of the 'alphabet' list)\n",
        "4.   use 'if' statement to check whether the ith alphabet matches the user input\n",
        "5.   if found a match use 'break' statement to get out of the loop\n",
        "6.   print out the value of i\n",
        "```\n"
      ],
      "metadata": {
        "id": "JBVFrnJV209d"
      }
    },
    {
      "cell_type": "code",
      "source": [
        "# find position of alphabet using for loop"
      ],
      "metadata": {
        "id": "hlaj8YX2xBQQ"
      },
      "execution_count": null,
      "outputs": []
    },
    {
      "cell_type": "markdown",
      "source": [
        "# ***Practice Problem***\n",
        "Find the position of a letter in the alphabet\n",
        "\n",
        "Here is an easy solution using the properties of list:\n",
        "\n",
        "\n",
        "```\n",
        "alphabet = 'abcdefgbijklmnopqrstuvwxyz'\n",
        "letter = input('Enter a letter: ')\n",
        "print(alphabet.find(letter))\n",
        "```\n",
        "\n",
        "\n",
        "\n",
        "> ***Using `while` loop***\n",
        "\n",
        "```\n",
        "1.   first, get our alphabets in a list for reference, i.e. alphabet = 'abcdefgbijklmnopqrstuvwxyz'\n",
        "2.   letter = ask the user to input a letter\n",
        "4.   set count = 0\n",
        "3.   start the while loop construct with this condition:  count <= len(alphabet)\n",
        "4.   use 'if' statement to check whether the 'count'th alphabet matches the user input\n",
        "5.   if found a match use 'break' statement to get out of the loop\n",
        "6.   print out the value of count\n",
        "```\n"
      ],
      "metadata": {
        "id": "M4wf9YE75J_y"
      }
    },
    {
      "cell_type": "code",
      "source": [
        "# find position of alphabet using while loop"
      ],
      "metadata": {
        "id": "Fs4um6oz3FFx"
      },
      "execution_count": null,
      "outputs": []
    },
    {
      "cell_type": "markdown",
      "source": [
        "# ***Functions***\n",
        "\n",
        "*A Python function is a block of code that performs a specific task and can be reused in a program. There are two types of functions in Python: built-in functions that are provided by Python itself, and user-defined functions that are created by the programmer. You can define a function using the def keyword, and call it using the function name followed by parentheses. For example:*\n",
        "\n",
        "\n",
        "\n",
        "```\n",
        "def greet():\n",
        "  print(\"Hello from a function\")\n",
        "\n",
        "greet()\n",
        "```\n",
        "\n",
        "\n",
        "```\n",
        "def Division(a, b):\n",
        "    print(a/b)\n",
        "Division(3,4)\n",
        "Division(3.0,4.0)\n",
        "Division(3,4.0)\n",
        "Division(3.0,4)\n",
        "```\n",
        "\n",
        "*The output of a function can also be redirected to a variable.*\n",
        "\n",
        "\n",
        "\n",
        "```\n",
        "def Division(a, b):\n",
        "    return(a/b)\n",
        "result = Division (4,2)\n",
        "print(result)\n",
        "```\n",
        "\n"
      ],
      "metadata": {
        "id": "BP9Z0hd6mdeT"
      }
    },
    {
      "cell_type": "code",
      "source": [
        "# Function demonstration\n",
        "\n",
        "def Division(a, b):\n",
        "  result=a/b\n",
        "  return result, a+b"
      ],
      "metadata": {
        "id": "8xi9ux9r6sfC"
      },
      "execution_count": 56,
      "outputs": []
    },
    {
      "cell_type": "code",
      "source": [],
      "metadata": {
        "id": "Qut0CoBF7CvZ",
        "colab": {
          "base_uri": "https://localhost:8080/"
        },
        "outputId": "f6252802-ad6d-4d32-9851-5465b1aac22f"
      },
      "execution_count": 52,
      "outputs": [
        {
          "output_type": "execute_result",
          "data": {
            "text/plain": [
              "30"
            ]
          },
          "metadata": {},
          "execution_count": 52
        }
      ]
    },
    {
      "cell_type": "markdown",
      "source": [
        "# ***try/except***\n",
        "\n",
        "**Python has another type of conditional expression that is very useful. Suppose your program is processing user input or data from a file. You don’t always know for sure what you are getting in that case, and this can lead to problems. The ‘try/except’ conditional can solve them!**\n",
        "\n",
        "\n",
        "\n",
        "```\n",
        "a = \"1\"\n",
        "try:\n",
        "  b = a + 2\n",
        "except:\n",
        "  print(a, \" is not a number\")\n",
        "```\n",
        "\n",
        "*In a statically typed language, the programmer would have specified the type of a and b (float, int, etc.) and the compiler would have complained about the function being passed a variable of the wrong type. This does not happen here, but we can use the try/except construction.*\n",
        "\n",
        "\n",
        "\n",
        "\n",
        "```\n",
        "def Division(a, b):\n",
        "    try:\n",
        "        print(a/b)\n",
        "    except:\n",
        "        if b == 0:\n",
        "           print(\"cannot divide by zero\")\n",
        "        else:\n",
        "           print(float(a)/float(b))\n",
        "Division(2,\"2\")\n",
        "Division(2,0)\n",
        "```\n",
        "\n"
      ],
      "metadata": {
        "id": "t9MLeg35dX-b"
      }
    },
    {
      "cell_type": "code",
      "source": [
        "# Demonstrate try-except argument\n",
        "\n",
        "def area_of_rec(hight, width):\n",
        "  area=(hight*width)\n",
        "  return area"
      ],
      "metadata": {
        "id": "5E34_lvn7WdR"
      },
      "execution_count": 68,
      "outputs": []
    },
    {
      "cell_type": "code",
      "source": [
        "area_of_rec (4,5)"
      ],
      "metadata": {
        "id": "gSLUXuJR467y",
        "outputId": "9d392fd1-c039-42ed-fd6f-4c29fa2814f4",
        "colab": {
          "base_uri": "https://localhost:8080/"
        }
      },
      "execution_count": 69,
      "outputs": [
        {
          "output_type": "execute_result",
          "data": {
            "text/plain": [
              "20"
            ]
          },
          "metadata": {},
          "execution_count": 69
        }
      ]
    },
    {
      "cell_type": "markdown",
      "source": [
        "# ***Practice Problem***\n",
        "\n",
        "Write a function that takes height and width of a rectangle and returns the area of the rectangle.\n",
        "\n",
        "\n",
        "\n",
        "```\n",
        "1.  start by defining the function statement. Give it a good name\n",
        "2.  identify the input variable required for calculating the area and name them, i. e. def function_name ( variable_1, variable_2):\n",
        "3.  calculate area and return the calculated area, i.e. return area\n",
        "4.  get outside the function, and try printing out the area for a given rectangle, i.e. print(fuction_name(variable_1,variable_2))\n",
        "```\n",
        "\n"
      ],
      "metadata": {
        "id": "lIq_wySS7ecp"
      }
    },
    {
      "cell_type": "code",
      "source": [
        "# Calculate the area of a Rectangle\n",
        "def temp of"
      ],
      "metadata": {
        "id": "YTtR4yCS7d9M"
      },
      "execution_count": null,
      "outputs": []
    },
    {
      "cell_type": "markdown",
      "source": [
        "# ***Practice Problem***\n",
        "\n",
        "Write a function that takes temperature in Fahrenheit unit and convert it into celsius.\n",
        "\n",
        "`T(°C) = (T(°F) - 32) × 5/9`\n",
        "\n",
        "\n",
        "```\n",
        "1.  start by defining the function statement. Give it a good name\n",
        "2.  identify the input variable required for the conversion and name them, i. e. def function_name ( variable_1):\n",
        "3.  convert to Celsius and return the Celcius value, i.e. return celcius\n",
        "4.  get outside the function, and try printing out the conversion of temperature from Fahrenheit to Celcius, i.e. print(fuction_name(variable_1))\n",
        "```"
      ],
      "metadata": {
        "id": "E2akOoX49I74"
      }
    },
    {
      "cell_type": "code",
      "source": [
        "# Convert Fahrenheit to Celsius\n",
        "def temp_of_celsius(F):\n",
        "  temp_of_celsius=((F-32)*5/9)\n",
        "  return temp_of_celsius\n",
        "temp_of_celsius(78)"
      ],
      "metadata": {
        "id": "2rJkRGLI7aOD",
        "colab": {
          "base_uri": "https://localhost:8080/"
        },
        "outputId": "5ade6187-4407-4f5d-8c50-4bcd98123408"
      },
      "execution_count": 74,
      "outputs": [
        {
          "output_type": "execute_result",
          "data": {
            "text/plain": [
              "25.555555555555557"
            ]
          },
          "metadata": {},
          "execution_count": 74
        }
      ]
    },
    {
      "cell_type": "code",
      "source": [],
      "metadata": {
        "id": "92mko0jY6lfC"
      },
      "execution_count": 72,
      "outputs": []
    },
    {
      "cell_type": "markdown",
      "source": [
        "# ***Practice Problem***\n",
        "\n",
        "Write a function that can calculate the sum of squares between two provided inputs.\n",
        "\n",
        "```\n",
        "1.  start by defining the function statement. Give it a good name\n",
        "2.  identify the input variable required for the conversion and name them, i. e. def function_name ( variable_1, variable_2):\n",
        "3.  calculate the squared_sum and return the value, i.e. return squared_sum\n",
        "4.  get outside the function, and try printing out the summation, i.e. print(fuction_name(variable_1,variable_2))\n",
        "```"
      ],
      "metadata": {
        "id": "s0e0dexO-gLh"
      }
    },
    {
      "cell_type": "code",
      "source": [
        "def sum_of_square( var_1, var_2):\n",
        "  sum=0\n",
        "  a_list=range(var_1, var_2+1)\n",
        "  for i in a_list:\n",
        "    sum=i**2+sum\n",
        "  print (sum)\n"
      ],
      "metadata": {
        "id": "DZl4IhZC_fHl"
      },
      "execution_count": 76,
      "outputs": []
    },
    {
      "cell_type": "code",
      "source": [
        "# Calculate the sum of squares of two given numbers"
      ],
      "metadata": {
        "id": "w3CzvZWW-fW4"
      },
      "execution_count": null,
      "outputs": []
    },
    {
      "cell_type": "code",
      "source": [
        "sum_of_square(10, 40)\n"
      ],
      "metadata": {
        "id": "2tPjeiT-_Wjj",
        "colab": {
          "base_uri": "https://localhost:8080/"
        },
        "outputId": "1080f0c6-636c-4abb-a6de-70f883151969"
      },
      "execution_count": 78,
      "outputs": [
        {
          "output_type": "stream",
          "name": "stdout",
          "text": [
            "21855\n"
          ]
        }
      ]
    },
    {
      "cell_type": "markdown",
      "source": [
        "# ***Have fun with the projects!!***"
      ],
      "metadata": {
        "id": "8pRgApWw_Vkm"
      }
    },
    {
      "cell_type": "code",
      "source": [
        "input(lower_limit=10, upper_limit=20)\n"
      ],
      "metadata": {
        "id": "euusnank-_Ca"
      },
      "execution_count": null,
      "outputs": []
    }
  ]
}